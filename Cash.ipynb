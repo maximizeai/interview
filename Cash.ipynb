{
  "nbformat": 4,
  "nbformat_minor": 0,
  "metadata": {
    "colab": {
      "provenance": []
    },
    "kernelspec": {
      "name": "python3",
      "display_name": "Python 3"
    },
    "language_info": {
      "name": "python"
    }
  },
  "cells": [
    {
      "cell_type": "code",
      "source": [
        "!pip install pytest-mock"
      ],
      "metadata": {
        "colab": {
          "base_uri": "https://localhost:8080/"
        },
        "id": "S8HYIXxmSD6q",
        "outputId": "88b09c9b-2fc5-4f86-c4e6-bf95113211a5"
      },
      "execution_count": 2,
      "outputs": [
        {
          "output_type": "stream",
          "name": "stdout",
          "text": [
            "Collecting pytest-mock\n",
            "  Downloading pytest_mock-3.14.0-py3-none-any.whl.metadata (3.8 kB)\n",
            "Requirement already satisfied: pytest>=6.2.5 in /usr/local/lib/python3.10/dist-packages (from pytest-mock) (7.4.4)\n",
            "Requirement already satisfied: iniconfig in /usr/local/lib/python3.10/dist-packages (from pytest>=6.2.5->pytest-mock) (2.0.0)\n",
            "Requirement already satisfied: packaging in /usr/local/lib/python3.10/dist-packages (from pytest>=6.2.5->pytest-mock) (24.1)\n",
            "Requirement already satisfied: pluggy<2.0,>=0.12 in /usr/local/lib/python3.10/dist-packages (from pytest>=6.2.5->pytest-mock) (1.5.0)\n",
            "Requirement already satisfied: exceptiongroup>=1.0.0rc8 in /usr/local/lib/python3.10/dist-packages (from pytest>=6.2.5->pytest-mock) (1.2.2)\n",
            "Requirement already satisfied: tomli>=1.0.0 in /usr/local/lib/python3.10/dist-packages (from pytest>=6.2.5->pytest-mock) (2.0.2)\n",
            "Downloading pytest_mock-3.14.0-py3-none-any.whl (9.9 kB)\n",
            "Installing collected packages: pytest-mock\n",
            "Successfully installed pytest-mock-3.14.0\n"
          ]
        }
      ]
    },
    {
      "cell_type": "code",
      "source": [
        "!pip install pytest pytest-asyncio\n"
      ],
      "metadata": {
        "colab": {
          "base_uri": "https://localhost:8080/"
        },
        "id": "JunQArJsSDwf",
        "outputId": "33b893e3-3a39-44d4-ea13-4807465727cb"
      },
      "execution_count": 3,
      "outputs": [
        {
          "output_type": "stream",
          "name": "stdout",
          "text": [
            "Requirement already satisfied: pytest in /usr/local/lib/python3.10/dist-packages (7.4.4)\n",
            "Collecting pytest-asyncio\n",
            "  Downloading pytest_asyncio-0.24.0-py3-none-any.whl.metadata (3.9 kB)\n",
            "Requirement already satisfied: iniconfig in /usr/local/lib/python3.10/dist-packages (from pytest) (2.0.0)\n",
            "Requirement already satisfied: packaging in /usr/local/lib/python3.10/dist-packages (from pytest) (24.1)\n",
            "Requirement already satisfied: pluggy<2.0,>=0.12 in /usr/local/lib/python3.10/dist-packages (from pytest) (1.5.0)\n",
            "Requirement already satisfied: exceptiongroup>=1.0.0rc8 in /usr/local/lib/python3.10/dist-packages (from pytest) (1.2.2)\n",
            "Requirement already satisfied: tomli>=1.0.0 in /usr/local/lib/python3.10/dist-packages (from pytest) (2.0.2)\n",
            "Collecting pytest\n",
            "  Downloading pytest-8.3.3-py3-none-any.whl.metadata (7.5 kB)\n",
            "Downloading pytest_asyncio-0.24.0-py3-none-any.whl (18 kB)\n",
            "Downloading pytest-8.3.3-py3-none-any.whl (342 kB)\n",
            "\u001b[2K   \u001b[90m━━━━━━━━━━━━━━━━━━━━━━━━━━━━━━━━━━━━━━━━\u001b[0m \u001b[32m342.3/342.3 kB\u001b[0m \u001b[31m7.4 MB/s\u001b[0m eta \u001b[36m0:00:00\u001b[0m\n",
            "\u001b[?25hInstalling collected packages: pytest, pytest-asyncio\n",
            "  Attempting uninstall: pytest\n",
            "    Found existing installation: pytest 7.4.4\n",
            "    Uninstalling pytest-7.4.4:\n",
            "      Successfully uninstalled pytest-7.4.4\n",
            "Successfully installed pytest-8.3.3 pytest-asyncio-0.24.0\n"
          ]
        }
      ]
    },
    {
      "cell_type": "code",
      "source": [
        "%%writefile cash.py\n",
        "import asyncio\n",
        "import threading\n",
        "\n",
        "class AsyncEventLoop:\n",
        "    def __init__(self):\n",
        "        self.loop = asyncio.new_event_loop()\n",
        "        self.thread = threading.Thread(target=self.run_loop, daemon=True)\n",
        "        self.thread.start()\n",
        "        self._event = threading.Event()\n",
        "\n",
        "    def run_loop(self):\n",
        "        asyncio.set_event_loop(self.loop)\n",
        "        self.loop.run_forever()\n",
        "\n",
        "    def stop(self):\n",
        "        self.loop.call_soon_threadsafe(self.loop.stop)\n",
        "\n",
        "    def run_until_complete(self, coro):\n",
        "        return asyncio.run_coroutine_threadsafe(coro, self.loop).result()\n",
        "\n",
        "    async def wait(self):\n",
        "        while not self._event.is_set():\n",
        "            await asyncio.sleep(0.1)\n",
        "\n",
        "    def set_event(self):\n",
        "        self._event.set()\n",
        "\n",
        "    def clear_event(self):\n",
        "        self._event.clear()\n",
        "\n",
        "# Mock class\n",
        "\n",
        "class CurrencyConversion:\n",
        "    def __init__(self, symbol: str, conversion_rate: float, event_manager: AsyncEventLoop):\n",
        "        self.symbol = symbol\n",
        "        self.conversion_rate = conversion_rate\n",
        "        self.conversion_rate_updated = event_manager\n",
        "\n",
        "    async def update(self):\n",
        "        await asyncio.sleep(1)\n",
        "        self.conversion_rate *= 1.01\n",
        "        self.conversion_rate_updated.set_event()\n",
        "\n",
        "# Main Cash Class\n",
        "class Cash:\n",
        "    def __init__(self, symbol: str, amount: float, conversion_rate: float, event_manager: AsyncEventLoop):\n",
        "        if not symbol:\n",
        "            raise ValueError(\"Symbol cannot be null or empty\")\n",
        "        self.symbol = symbol.upper()\n",
        "        self.amount = amount\n",
        "        self.currency_conversion = CurrencyConversion(self.symbol, conversion_rate, event_manager)\n",
        "        self.lock = asyncio.Lock()\n",
        "        self.updated_event = event_manager\n",
        "        self.currency_conversion_updated_event = event_manager\n",
        "\n",
        "    @property\n",
        "    async def value_in_account_currency(self):\n",
        "        return self.amount * self.currency_conversion.conversion_rate\n",
        "\n",
        "    async def add_amount(self, amount: float) -> float:\n",
        "        async with self.lock:\n",
        "            self.amount += amount\n",
        "            self.updated_event.set_event()\n",
        "        return self.amount\n",
        "\n",
        "    async def set_amount(self, amount: float):\n",
        "        async with self.lock:\n",
        "            if self.amount != amount:\n",
        "                self.amount = amount\n",
        "                self.updated_event.set_event()\n",
        "\n",
        "    async def update_conversion_rate(self):\n",
        "        await self.currency_conversion.update()\n",
        "        self.currency_conversion_updated_event.set_event()"
      ],
      "metadata": {
        "colab": {
          "base_uri": "https://localhost:8080/"
        },
        "id": "T9bsqdLFR29Z",
        "outputId": "497113a2-a84e-4de5-9223-d810b2b22143"
      },
      "execution_count": 11,
      "outputs": [
        {
          "output_type": "stream",
          "name": "stdout",
          "text": [
            "Overwriting cash.py\n"
          ]
        }
      ]
    },
    {
      "cell_type": "code",
      "source": [
        "%%writefile test_cash.py\n",
        "import pytest\n",
        "from unittest.mock import AsyncMock\n",
        "from cash import Cash, AsyncEventLoop\n",
        "\n",
        "@pytest.fixture\n",
        "def cash():\n",
        "    event_loop = AsyncEventLoop()\n",
        "    return Cash(\"USD\", 1000, 1.0, event_loop)\n",
        "\n",
        "@pytest.mark.asyncio\n",
        "async def test_add_amount(cash):\n",
        "    new_amount = await cash.add_amount(500)\n",
        "    assert new_amount == 1500\n",
        "    assert cash.amount == 1500\n",
        "\n",
        "@pytest.mark.asyncio\n",
        "async def test_set_amount(cash):\n",
        "    await cash.set_amount(800)\n",
        "    assert cash.amount == 800\n",
        "\n",
        "@pytest.mark.asyncio\n",
        "async def test_update_conversion_rate(cash, mocker):\n",
        "    new_callable = AsyncMock()\n",
        "    mocker.patch.object(cash.currency_conversion, 'update', new_callable)\n",
        "    await cash.update_conversion_rate()\n",
        "    cash.currency_conversion.conversion_rate = 1.05\n",
        "    assert cash.currency_conversion.conversion_rate == 1.05\n",
        "\n",
        "@pytest.mark.asyncio\n",
        "async def test_value_in_account_currency(cash, mocker):\n",
        "    new_callable = AsyncMock()\n",
        "    mocker.patch.object(cash.currency_conversion, 'update', new_callable)\n",
        "    cash.currency_conversion.conversion_rate = 1.05\n",
        "    await cash.update_conversion_rate()\n",
        "    value = await cash.value_in_account_currency\n",
        "    assert value == cash.amount * cash.currency_conversion.conversion_rate\n",
        "\n",
        "@pytest.mark.asyncio\n",
        "async def test_update_conversion_rate_multiple(cash, mocker):\n",
        "    new_callable = AsyncMock()\n",
        "    mocker.patch.object(cash.currency_conversion, 'update', new_callable)\n",
        "    cash.currency_conversion.conversion_rate = 1.0\n",
        "    await cash.update_conversion_rate()\n",
        "    cash.currency_conversion.conversion_rate = 1.10\n",
        "\n",
        "    assert cash.currency_conversion.conversion_rate == 1.10\n",
        "\n",
        "@pytest.mark.asyncio\n",
        "async def test_value_in_account_currency_multiple(cash, mocker):\n",
        "    new_callable = AsyncMock()\n",
        "    mocker.patch.object(cash.currency_conversion, 'update', new_callable)\n",
        "    cash.currency_conversion.conversion_rate = 1.10\n",
        "    await cash.update_conversion_rate()\n",
        "    value = await cash.value_in_account_currency\n",
        "\n",
        "    assert value == cash.amount * cash.currency_conversion.conversion_rate\n"
      ],
      "metadata": {
        "colab": {
          "base_uri": "https://localhost:8080/"
        },
        "id": "EAPIhkhnR-ah",
        "outputId": "9390e9d5-30a9-43c1-fd2f-5df3c47dc4a8"
      },
      "execution_count": 12,
      "outputs": [
        {
          "output_type": "stream",
          "name": "stdout",
          "text": [
            "Overwriting test_cash.py\n"
          ]
        }
      ]
    },
    {
      "cell_type": "code",
      "source": [
        "!pytest test_cash.py --asyncio-mode=auto"
      ],
      "metadata": {
        "colab": {
          "base_uri": "https://localhost:8080/"
        },
        "id": "CnyHzaraSc1q",
        "outputId": "30c713b6-a0b6-461a-ec1e-ef35af907303"
      },
      "execution_count": 13,
      "outputs": [
        {
          "output_type": "stream",
          "name": "stdout",
          "text": [
            "/usr/local/lib/python3.10/dist-packages/pytest_asyncio/plugin.py:208: PytestDeprecationWarning: The configuration option \"asyncio_default_fixture_loop_scope\" is unset.\n",
            "The event loop scope for asynchronous fixtures will default to the fixture caching scope. Future versions of pytest-asyncio will default the loop scope for asynchronous fixtures to function scope. Set the default fixture loop scope explicitly in order to avoid unexpected behavior in the future. Valid fixture loop scopes are: \"function\", \"class\", \"module\", \"package\", \"session\"\n",
            "\n",
            "  warnings.warn(PytestDeprecationWarning(_DEFAULT_FIXTURE_LOOP_SCOPE_UNSET))\n",
            "\u001b[1m======================================= test session starts ========================================\u001b[0m\n",
            "platform linux -- Python 3.10.12, pytest-8.3.3, pluggy-1.5.0\n",
            "rootdir: /content\n",
            "plugins: asyncio-0.24.0, mock-3.14.0, anyio-3.7.1, typeguard-4.3.0\n",
            "asyncio: mode=auto, default_loop_scope=None\n",
            "\u001b[1mcollecting ... \u001b[0m\u001b[1m\rcollected 6 items                                                                                  \u001b[0m\n",
            "\n",
            "test_cash.py \u001b[32m.\u001b[0m\u001b[32m.\u001b[0m\u001b[32m.\u001b[0m\u001b[32m.\u001b[0m\u001b[32m.\u001b[0m\u001b[32m.\u001b[0m\u001b[32m                                                                          [100%]\u001b[0m\n",
            "\n",
            "\u001b[32m======================================== \u001b[32m\u001b[1m6 passed\u001b[0m\u001b[32m in 0.03s\u001b[0m\u001b[32m =========================================\u001b[0m\n"
          ]
        }
      ]
    },
    {
      "cell_type": "code",
      "source": [],
      "metadata": {
        "id": "_Yjx4Z98Sfb3"
      },
      "execution_count": null,
      "outputs": []
    }
  ]
}