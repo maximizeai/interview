{
  "cells": [
    {
      "cell_type": "code",
      "execution_count": 5,
      "metadata": {
        "colab": {
          "base_uri": "https://localhost:8080/"
        },
        "id": "OcTENLbE-Cni",
        "outputId": "41ace58e-609a-4ef1-9915-ff6899b25149"
      },
      "outputs": [
        {
          "name": "stdout",
          "output_type": "stream",
          "text": [
            "Collecting pytest-mock\n",
            "  Downloading pytest_mock-3.14.0-py3-none-any.whl.metadata (3.8 kB)\n",
            "Requirement already satisfied: pytest>=6.2.5 in /usr/local/lib/python3.10/dist-packages (from pytest-mock) (7.4.4)\n",
            "Requirement already satisfied: iniconfig in /usr/local/lib/python3.10/dist-packages (from pytest>=6.2.5->pytest-mock) (2.0.0)\n",
            "Requirement already satisfied: packaging in /usr/local/lib/python3.10/dist-packages (from pytest>=6.2.5->pytest-mock) (24.1)\n",
            "Requirement already satisfied: pluggy<2.0,>=0.12 in /usr/local/lib/python3.10/dist-packages (from pytest>=6.2.5->pytest-mock) (1.5.0)\n",
            "Requirement already satisfied: exceptiongroup>=1.0.0rc8 in /usr/local/lib/python3.10/dist-packages (from pytest>=6.2.5->pytest-mock) (1.2.2)\n",
            "Requirement already satisfied: tomli>=1.0.0 in /usr/local/lib/python3.10/dist-packages (from pytest>=6.2.5->pytest-mock) (2.0.2)\n",
            "Downloading pytest_mock-3.14.0-py3-none-any.whl (9.9 kB)\n",
            "Installing collected packages: pytest-mock\n",
            "Successfully installed pytest-mock-3.14.0\n"
          ]
        }
      ],
      "source": [
        "!pip install pytest-mock"
      ]
    },
    {
      "cell_type": "code",
      "execution_count": 6,
      "metadata": {
        "colab": {
          "base_uri": "https://localhost:8080/"
        },
        "id": "_9rcJgsd-CZx",
        "outputId": "677a1e06-eaa9-4148-b693-158d72890eed"
      },
      "outputs": [
        {
          "name": "stdout",
          "output_type": "stream",
          "text": [
            "Requirement already satisfied: pytest in /usr/local/lib/python3.10/dist-packages (7.4.4)\n",
            "Collecting pytest-asyncio\n",
            "  Downloading pytest_asyncio-0.24.0-py3-none-any.whl.metadata (3.9 kB)\n",
            "Requirement already satisfied: iniconfig in /usr/local/lib/python3.10/dist-packages (from pytest) (2.0.0)\n",
            "Requirement already satisfied: packaging in /usr/local/lib/python3.10/dist-packages (from pytest) (24.1)\n",
            "Requirement already satisfied: pluggy<2.0,>=0.12 in /usr/local/lib/python3.10/dist-packages (from pytest) (1.5.0)\n",
            "Requirement already satisfied: exceptiongroup>=1.0.0rc8 in /usr/local/lib/python3.10/dist-packages (from pytest) (1.2.2)\n",
            "Requirement already satisfied: tomli>=1.0.0 in /usr/local/lib/python3.10/dist-packages (from pytest) (2.0.2)\n",
            "Collecting pytest\n",
            "  Downloading pytest-8.3.3-py3-none-any.whl.metadata (7.5 kB)\n",
            "Downloading pytest_asyncio-0.24.0-py3-none-any.whl (18 kB)\n",
            "Downloading pytest-8.3.3-py3-none-any.whl (342 kB)\n",
            "\u001b[2K   \u001b[90m━━━━━━━━━━━━━━━━━━━━━━━━━━━━━━━━━━━━━━━━\u001b[0m \u001b[32m342.3/342.3 kB\u001b[0m \u001b[31m8.9 MB/s\u001b[0m eta \u001b[36m0:00:00\u001b[0m\n",
            "\u001b[?25hInstalling collected packages: pytest, pytest-asyncio\n",
            "  Attempting uninstall: pytest\n",
            "    Found existing installation: pytest 7.4.4\n",
            "    Uninstalling pytest-7.4.4:\n",
            "      Successfully uninstalled pytest-7.4.4\n",
            "Successfully installed pytest-8.3.3 pytest-asyncio-0.24.0\n"
          ]
        }
      ],
      "source": [
        "!pip install pytest pytest-asyncio\n"
      ]
    },
    {
      "cell_type": "code",
      "execution_count": 7,
      "metadata": {
        "colab": {
          "base_uri": "https://localhost:8080/"
        },
        "id": "J7EHiWx-6ndP",
        "outputId": "cc4d3117-b57d-4ed7-a5b3-900a58871d51"
      },
      "outputs": [
        {
          "name": "stdout",
          "output_type": "stream",
          "text": [
            "Overwriting stop_limit_order.py\n"
          ]
        }
      ],
      "source": [
        "%%writefile stop_limit_order.py\n",
        "import asyncio\n",
        "from datetime import datetime\n",
        "\n",
        "# Mock classes\n",
        "\n",
        "class OrderType:\n",
        "    StopLimit = 'StopLimit'\n",
        "\n",
        "class Security:\n",
        "    def __init__(self, symbol, price):\n",
        "        self.symbol = symbol\n",
        "        self.price = price\n",
        "\n",
        "class Order:\n",
        "    def __init__(self, symbol, quantity, time, tag='', properties=None):\n",
        "        self.symbol = symbol\n",
        "        self.quantity = quantity\n",
        "        self.time = time\n",
        "        self.tag = tag\n",
        "        self.properties = properties\n",
        "\n",
        "# Main StopLimitOrder class\n",
        "\n",
        "class StopLimitOrder(Order):\n",
        "    def __init__(self, symbol, quantity, stop_price, limit_price, time, tag='', properties=None):\n",
        "        super().__init__(symbol, quantity, time, tag, properties)\n",
        "        self.stop_price = stop_price\n",
        "        self.limit_price = limit_price\n",
        "        self.stop_triggered = False\n",
        "\n",
        "    @property\n",
        "    def type(self):\n",
        "        return OrderType.StopLimit\n",
        "\n",
        "    async def get_value(self, security):\n",
        "\n",
        "        if self.quantity < 0:\n",
        "\n",
        "            return self.quantity * max(self.limit_price, security.price)\n",
        "        elif self.quantity > 0:\n",
        "\n",
        "            return self.quantity * min(self.limit_price, security.price)\n",
        "        return 0\n",
        "\n",
        "    async def apply_update(self, update_request):\n",
        "\n",
        "        if 'stop_price' in update_request:\n",
        "            self.stop_price = update_request['stop_price']\n",
        "        if 'limit_price' in update_request:\n",
        "            self.limit_price = update_request['limit_price']\n",
        "\n",
        "    def clone(self):\n",
        "        return StopLimitOrder(\n",
        "            self.symbol, self.quantity, self.stop_price, self.limit_price, self.time, self.tag, self.properties\n",
        "        )\n",
        "\n",
        "\n"
      ]
    },
    {
      "cell_type": "code",
      "execution_count": 10,
      "metadata": {
        "colab": {
          "base_uri": "https://localhost:8080/"
        },
        "id": "22pMG0Tp7_iV",
        "outputId": "3c976a7f-71a1-4817-f401-3f8a97a95254"
      },
      "outputs": [
        {
          "name": "stdout",
          "output_type": "stream",
          "text": [
            "Overwriting test_stop_limit_order.py\n"
          ]
        }
      ],
      "source": [
        "%%writefile test_stop_limit_order.py\n",
        "import pytest\n",
        "from unittest.mock import AsyncMock\n",
        "from stop_limit_order import StopLimitOrder, Security\n",
        "\n",
        "@pytest.mark.asyncio\n",
        "async def test_get_value_buy(mocker):\n",
        "    security = Security(symbol=\"AAPL\", price=140.0)\n",
        "    order = StopLimitOrder(symbol=\"AAPL\", quantity=10, stop_price=150.0, limit_price=155.0, time=None)\n",
        "\n",
        "    mocker.patch.object(security, 'price', 140.0)\n",
        "\n",
        "    value = await order.get_value(security)\n",
        "\n",
        "    assert value == 1400.0\n",
        "\n",
        "@pytest.mark.asyncio\n",
        "async def test_get_value_sell(mocker):\n",
        "    security = Security(symbol=\"AAPL\", price=160.0)\n",
        "    order = StopLimitOrder(symbol=\"AAPL\", quantity=-5, stop_price=150.0, limit_price=155.0, time=None)\n",
        "\n",
        "    \n",
        "    mocker.patch.object(security, 'price', 160.0)\n",
        "\n",
        "    value = await order.get_value(security)\n",
        "\n",
        "    assert value == -800.0\n",
        "\n",
        "@pytest.mark.asyncio\n",
        "async def test_apply_update():\n",
        "    order = StopLimitOrder(symbol=\"AAPL\", quantity=10, stop_price=150.0, limit_price=155.0, time=None)\n",
        "\n",
        "    update_request = {\n",
        "        'stop_price': 145.0,\n",
        "        'limit_price': 152.0\n",
        "    }\n",
        "\n",
        "    await order.apply_update(update_request)\n",
        "\n",
        "   \n",
        "    assert order.stop_price == 145.0\n",
        "    assert order.limit_price == 152.0\n",
        "\n",
        "\n",
        "@pytest.mark.asyncio\n",
        "async def test_clone(mocker):\n",
        "    order = StopLimitOrder(symbol=\"AAPL\", quantity=10, stop_price=150.0, limit_price=155.0, time=None)\n",
        "\n",
        "    cloned_order = order.clone()\n",
        "\n",
        "    assert cloned_order.symbol == order.symbol\n",
        "    assert cloned_order.quantity == order.quantity\n",
        "    assert cloned_order.stop_price == order.stop_price\n",
        "    assert cloned_order.limit_price == order.limit_price\n",
        "    assert cloned_order.tag == order.tag\n",
        "    assert cloned_order.properties == order.properties\n",
        "\n",
        "\n",
        "\n"
      ]
    },
    {
      "cell_type": "code",
      "execution_count": 11,
      "metadata": {
        "colab": {
          "base_uri": "https://localhost:8080/"
        },
        "id": "04ez73bh9pIC",
        "outputId": "e9682c5a-0229-43a5-d81b-8b6beda885e8"
      },
      "outputs": [
        {
          "name": "stdout",
          "output_type": "stream",
          "text": [
            "/usr/local/lib/python3.10/dist-packages/pytest_asyncio/plugin.py:208: PytestDeprecationWarning: The configuration option \"asyncio_default_fixture_loop_scope\" is unset.\n",
            "The event loop scope for asynchronous fixtures will default to the fixture caching scope. Future versions of pytest-asyncio will default the loop scope for asynchronous fixtures to function scope. Set the default fixture loop scope explicitly in order to avoid unexpected behavior in the future. Valid fixture loop scopes are: \"function\", \"class\", \"module\", \"package\", \"session\"\n",
            "\n",
            "  warnings.warn(PytestDeprecationWarning(_DEFAULT_FIXTURE_LOOP_SCOPE_UNSET))\n",
            "\u001b[1m======================================= test session starts ========================================\u001b[0m\n",
            "platform linux -- Python 3.10.12, pytest-8.3.3, pluggy-1.5.0\n",
            "rootdir: /content\n",
            "plugins: asyncio-0.24.0, mock-3.14.0, anyio-3.7.1, typeguard-4.3.0\n",
            "asyncio: mode=auto, default_loop_scope=None\n",
            "\u001b[1mcollecting ... \u001b[0m\u001b[1m\rcollected 4 items                                                                                  \u001b[0m\n",
            "\n",
            "test_stop_limit_order.py \u001b[32m.\u001b[0m\u001b[32m.\u001b[0m\u001b[32m.\u001b[0m\u001b[32m.\u001b[0m\u001b[32m                                                                [100%]\u001b[0m\n",
            "\n",
            "\u001b[32m======================================== \u001b[32m\u001b[1m4 passed\u001b[0m\u001b[32m in 0.03s\u001b[0m\u001b[32m =========================================\u001b[0m\n"
          ]
        }
      ],
      "source": [
        "!pytest test_stop_limit_order.py --asyncio-mode=auto"
      ]
    },
    {
      "cell_type": "code",
      "execution_count": null,
      "metadata": {
        "id": "VI8nS2bX95kQ"
      },
      "outputs": [],
      "source": []
    }
  ],
  "metadata": {
    "colab": {
      "provenance": []
    },
    "kernelspec": {
      "display_name": "Python 3",
      "name": "python3"
    },
    "language_info": {
      "name": "python"
    }
  },
  "nbformat": 4,
  "nbformat_minor": 0
}
