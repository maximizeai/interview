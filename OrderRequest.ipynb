{
  "cells": [
    {
      "cell_type": "code",
      "execution_count": 4,
      "metadata": {
        "colab": {
          "base_uri": "https://localhost:8080/"
        },
        "id": "PAoY8bl5uPWi",
        "outputId": "254bdebc-0453-4bdd-9270-0ec485069115"
      },
      "outputs": [
        {
          "name": "stdout",
          "output_type": "stream",
          "text": [
            "Collecting pytest-mock\n",
            "  Downloading pytest_mock-3.14.0-py3-none-any.whl.metadata (3.8 kB)\n",
            "Requirement already satisfied: pytest>=6.2.5 in /usr/local/lib/python3.10/dist-packages (from pytest-mock) (7.4.4)\n",
            "Requirement already satisfied: iniconfig in /usr/local/lib/python3.10/dist-packages (from pytest>=6.2.5->pytest-mock) (2.0.0)\n",
            "Requirement already satisfied: packaging in /usr/local/lib/python3.10/dist-packages (from pytest>=6.2.5->pytest-mock) (24.1)\n",
            "Requirement already satisfied: pluggy<2.0,>=0.12 in /usr/local/lib/python3.10/dist-packages (from pytest>=6.2.5->pytest-mock) (1.5.0)\n",
            "Requirement already satisfied: exceptiongroup>=1.0.0rc8 in /usr/local/lib/python3.10/dist-packages (from pytest>=6.2.5->pytest-mock) (1.2.2)\n",
            "Requirement already satisfied: tomli>=1.0.0 in /usr/local/lib/python3.10/dist-packages (from pytest>=6.2.5->pytest-mock) (2.0.2)\n",
            "Downloading pytest_mock-3.14.0-py3-none-any.whl (9.9 kB)\n",
            "Installing collected packages: pytest-mock\n",
            "Successfully installed pytest-mock-3.14.0\n"
          ]
        }
      ],
      "source": [
        "!pip install pytest-mock"
      ]
    },
    {
      "cell_type": "code",
      "execution_count": 5,
      "metadata": {
        "colab": {
          "base_uri": "https://localhost:8080/"
        },
        "id": "wjkbV7VmuSBk",
        "outputId": "2b867c79-392c-4bce-dc86-867ba01df369"
      },
      "outputs": [
        {
          "name": "stdout",
          "output_type": "stream",
          "text": [
            "Requirement already satisfied: pytest in /usr/local/lib/python3.10/dist-packages (7.4.4)\n",
            "Collecting pytest-asyncio\n",
            "  Downloading pytest_asyncio-0.24.0-py3-none-any.whl.metadata (3.9 kB)\n",
            "Requirement already satisfied: iniconfig in /usr/local/lib/python3.10/dist-packages (from pytest) (2.0.0)\n",
            "Requirement already satisfied: packaging in /usr/local/lib/python3.10/dist-packages (from pytest) (24.1)\n",
            "Requirement already satisfied: pluggy<2.0,>=0.12 in /usr/local/lib/python3.10/dist-packages (from pytest) (1.5.0)\n",
            "Requirement already satisfied: exceptiongroup>=1.0.0rc8 in /usr/local/lib/python3.10/dist-packages (from pytest) (1.2.2)\n",
            "Requirement already satisfied: tomli>=1.0.0 in /usr/local/lib/python3.10/dist-packages (from pytest) (2.0.2)\n",
            "Collecting pytest\n",
            "  Downloading pytest-8.3.3-py3-none-any.whl.metadata (7.5 kB)\n",
            "Downloading pytest_asyncio-0.24.0-py3-none-any.whl (18 kB)\n",
            "Downloading pytest-8.3.3-py3-none-any.whl (342 kB)\n",
            "\u001b[2K   \u001b[90m━━━━━━━━━━━━━━━━━━━━━━━━━━━━━━━━━━━━━━━━\u001b[0m \u001b[32m342.3/342.3 kB\u001b[0m \u001b[31m4.3 MB/s\u001b[0m eta \u001b[36m0:00:00\u001b[0m\n",
            "\u001b[?25hInstalling collected packages: pytest, pytest-asyncio\n",
            "  Attempting uninstall: pytest\n",
            "    Found existing installation: pytest 7.4.4\n",
            "    Uninstalling pytest-7.4.4:\n",
            "      Successfully uninstalled pytest-7.4.4\n",
            "Successfully installed pytest-8.3.3 pytest-asyncio-0.24.0\n"
          ]
        }
      ],
      "source": [
        "!pip install pytest pytest-asyncio\n"
      ]
    },
    {
      "cell_type": "code",
      "execution_count": 6,
      "metadata": {
        "colab": {
          "base_uri": "https://localhost:8080/"
        },
        "id": "R_JQ7_Qlrq1n",
        "outputId": "889db82f-3257-447f-d625-99bd10988c93"
      },
      "outputs": [
        {
          "name": "stdout",
          "output_type": "stream",
          "text": [
            "Overwriting order_module.py\n"
          ]
        }
      ],
      "source": [
        "%%writefile order_module.py\n",
        "import asyncio\n",
        "from datetime import datetime\n",
        "from enum import Enum\n",
        "\n",
        "# Mock classes\n",
        "\n",
        "class OrderRequestType(Enum):\n",
        "    SUBMIT = 'submit'\n",
        "    UPDATE = 'update'\n",
        "    CANCEL = 'cancel'\n",
        "\n",
        "\n",
        "\n",
        "class OrderRequestStatus(Enum):\n",
        "    UNPROCESSED = 'unprocessed'\n",
        "    ERROR = 'error'\n",
        "\n",
        "\n",
        "class OrderResponse:\n",
        "    UNPROCESSED = 'unprocessed'\n",
        "\n",
        "    def __init__(self, is_error=False):\n",
        "        self.is_error = is_error\n",
        "\n",
        "# Main OrderRequest Class .\n",
        "\n",
        "class OrderRequest:\n",
        "    def __init__(self, time: datetime, order_id: int, tag: str):\n",
        "        self.time = time\n",
        "        self.order_id = order_id\n",
        "        self.tag = tag\n",
        "        self.response = OrderResponse()\n",
        "        self.status = OrderRequestStatus.UNPROCESSED\n",
        "\n",
        "\n",
        "    async def set_response(self, response: OrderResponse, status: OrderRequestStatus = OrderRequestStatus.ERROR):\n",
        "        if response is None:\n",
        "            raise ValueError(\"Response cannot be None\")\n",
        "\n",
        "        await asyncio.sleep(1)\n",
        "        self.status = OrderRequestStatus.ERROR if response.is_error else status\n",
        "        self.response = response\n",
        "\n",
        "    def __str__(self):\n",
        "        return f\"OrderRequest(time={self.time}, order_id={self.order_id}, tag={self.tag}, status={self.status}, response={self.response})\"\n",
        "\n",
        "\n",
        "\n",
        "\n",
        "\n"
      ]
    },
    {
      "cell_type": "code",
      "execution_count": 7,
      "metadata": {
        "colab": {
          "base_uri": "https://localhost:8080/"
        },
        "id": "VtZqrkM-soW8",
        "outputId": "408a11b1-c961-445d-d186-f9e2b1067cdd"
      },
      "outputs": [
        {
          "name": "stdout",
          "output_type": "stream",
          "text": [
            "Overwriting test_order_module.py\n"
          ]
        }
      ],
      "source": [
        "%%writefile test_order_module.py\n",
        "import asyncio\n",
        "import pytest\n",
        "from datetime import datetime\n",
        "from unittest.mock import AsyncMock\n",
        "from order_module import OrderRequest, OrderResponse, OrderRequestStatus,AsyncEventLoop\n",
        "\n",
        "\n",
        "@pytest.mark.asyncio\n",
        "async def test_order_request_set_response_success(mocker):\n",
        "    order_request = OrderRequest(datetime.utcnow(), 0, \"Test Order\")\n",
        "\n",
        "    mock_response = AsyncMock(spec=OrderResponse)\n",
        "    mock_response.is_error = False\n",
        "\n",
        "    await order_request.set_response(mock_response, OrderRequestStatus.UNPROCESSED)\n",
        "    assert order_request.status == OrderRequestStatus.UNPROCESSED\n",
        "    assert order_request.response.is_error is False\n",
        "\n",
        "\n",
        "@pytest.mark.asyncio\n",
        "async def test_order_request_set_response_error(mocker):\n",
        "    order_request = OrderRequest(datetime.utcnow(), 1, \"Test Order\")\n",
        "\n",
        "    mock_response = AsyncMock(spec=OrderResponse)\n",
        "    mock_response.is_error = True\n",
        "\n",
        "    await order_request.set_response(mock_response, OrderRequestStatus.UNPROCESSED)\n",
        "\n",
        "    assert order_request.status == OrderRequestStatus.ERROR\n",
        "    assert order_request.response.is_error is True\n",
        "\n",
        "\n",
        "\n"
      ]
    },
    {
      "cell_type": "code",
      "execution_count": 8,
      "metadata": {
        "colab": {
          "base_uri": "https://localhost:8080/"
        },
        "id": "55fa9oaeulDA",
        "outputId": "7cdbbaf4-9185-435c-cbd6-85fdc9a89cbf"
      },
      "outputs": [
        {
          "name": "stdout",
          "output_type": "stream",
          "text": [
            "/usr/local/lib/python3.10/dist-packages/pytest_asyncio/plugin.py:208: PytestDeprecationWarning: The configuration option \"asyncio_default_fixture_loop_scope\" is unset.\n",
            "The event loop scope for asynchronous fixtures will default to the fixture caching scope. Future versions of pytest-asyncio will default the loop scope for asynchronous fixtures to function scope. Set the default fixture loop scope explicitly in order to avoid unexpected behavior in the future. Valid fixture loop scopes are: \"function\", \"class\", \"module\", \"package\", \"session\"\n",
            "\n",
            "  warnings.warn(PytestDeprecationWarning(_DEFAULT_FIXTURE_LOOP_SCOPE_UNSET))\n",
            "\u001b[1m======================================= test session starts ========================================\u001b[0m\n",
            "platform linux -- Python 3.10.12, pytest-8.3.3, pluggy-1.5.0\n",
            "rootdir: /content\n",
            "plugins: asyncio-0.24.0, mock-3.14.0, anyio-3.7.1, typeguard-4.3.0\n",
            "asyncio: mode=auto, default_loop_scope=None\n",
            "\u001b[1mcollecting ... \u001b[0m\u001b[1m\rcollected 2 items                                                                                  \u001b[0m\n",
            "\n",
            "test_order_module.py \u001b[32m.\u001b[0m\u001b[32m.\u001b[0m\u001b[32m                                                                      [100%]\u001b[0m\n",
            "\n",
            "\u001b[32m======================================== \u001b[32m\u001b[1m2 passed\u001b[0m\u001b[32m in 2.05s\u001b[0m\u001b[32m =========================================\u001b[0m\n"
          ]
        }
      ],
      "source": [
        "!pytest test_order_module.py --asyncio-mode=auto"
      ]
    },
    {
      "cell_type": "code",
      "execution_count": null,
      "metadata": {
        "id": "yHXX4Ffdured"
      },
      "outputs": [],
      "source": []
    }
  ],
  "metadata": {
    "colab": {
      "provenance": []
    },
    "kernelspec": {
      "display_name": "Python 3",
      "name": "python3"
    },
    "language_info": {
      "name": "python"
    }
  },
  "nbformat": 4,
  "nbformat_minor": 0
}
