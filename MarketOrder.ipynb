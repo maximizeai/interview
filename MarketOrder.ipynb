{
  "cells": [
    {
      "cell_type": "code",
      "execution_count": 6,
      "metadata": {
        "colab": {
          "base_uri": "https://localhost:8080/"
        },
        "id": "5XF9WcrCtRPU",
        "outputId": "0bef0466-4994-40a8-e2ec-63980ab9f480"
      },
      "outputs": [
        {
          "name": "stdout",
          "output_type": "stream",
          "text": [
            "Collecting pytest-mock\n",
            "  Downloading pytest_mock-3.14.0-py3-none-any.whl.metadata (3.8 kB)\n",
            "Requirement already satisfied: pytest>=6.2.5 in /usr/local/lib/python3.10/dist-packages (from pytest-mock) (7.4.4)\n",
            "Requirement already satisfied: iniconfig in /usr/local/lib/python3.10/dist-packages (from pytest>=6.2.5->pytest-mock) (2.0.0)\n",
            "Requirement already satisfied: packaging in /usr/local/lib/python3.10/dist-packages (from pytest>=6.2.5->pytest-mock) (24.1)\n",
            "Requirement already satisfied: pluggy<2.0,>=0.12 in /usr/local/lib/python3.10/dist-packages (from pytest>=6.2.5->pytest-mock) (1.5.0)\n",
            "Requirement already satisfied: exceptiongroup>=1.0.0rc8 in /usr/local/lib/python3.10/dist-packages (from pytest>=6.2.5->pytest-mock) (1.2.2)\n",
            "Requirement already satisfied: tomli>=1.0.0 in /usr/local/lib/python3.10/dist-packages (from pytest>=6.2.5->pytest-mock) (2.0.2)\n",
            "Downloading pytest_mock-3.14.0-py3-none-any.whl (9.9 kB)\n",
            "Installing collected packages: pytest-mock\n",
            "Successfully installed pytest-mock-3.14.0\n"
          ]
        }
      ],
      "source": [
        "!pip install pytest-mock"
      ]
    },
    {
      "cell_type": "code",
      "execution_count": 7,
      "metadata": {
        "colab": {
          "base_uri": "https://localhost:8080/"
        },
        "id": "I03mOgQGtQmD",
        "outputId": "c9f91aaa-7321-42ac-c25c-d55b290b6ab1"
      },
      "outputs": [
        {
          "name": "stdout",
          "output_type": "stream",
          "text": [
            "Requirement already satisfied: pytest in /usr/local/lib/python3.10/dist-packages (7.4.4)\n",
            "Collecting pytest-asyncio\n",
            "  Downloading pytest_asyncio-0.24.0-py3-none-any.whl.metadata (3.9 kB)\n",
            "Requirement already satisfied: iniconfig in /usr/local/lib/python3.10/dist-packages (from pytest) (2.0.0)\n",
            "Requirement already satisfied: packaging in /usr/local/lib/python3.10/dist-packages (from pytest) (24.1)\n",
            "Requirement already satisfied: pluggy<2.0,>=0.12 in /usr/local/lib/python3.10/dist-packages (from pytest) (1.5.0)\n",
            "Requirement already satisfied: exceptiongroup>=1.0.0rc8 in /usr/local/lib/python3.10/dist-packages (from pytest) (1.2.2)\n",
            "Requirement already satisfied: tomli>=1.0.0 in /usr/local/lib/python3.10/dist-packages (from pytest) (2.0.2)\n",
            "Collecting pytest\n",
            "  Downloading pytest-8.3.3-py3-none-any.whl.metadata (7.5 kB)\n",
            "Downloading pytest_asyncio-0.24.0-py3-none-any.whl (18 kB)\n",
            "Downloading pytest-8.3.3-py3-none-any.whl (342 kB)\n",
            "\u001b[2K   \u001b[90m━━━━━━━━━━━━━━━━━━━━━━━━━━━━━━━━━━━━━━━━\u001b[0m \u001b[32m342.3/342.3 kB\u001b[0m \u001b[31m18.2 MB/s\u001b[0m eta \u001b[36m0:00:00\u001b[0m\n",
            "\u001b[?25hInstalling collected packages: pytest, pytest-asyncio\n",
            "  Attempting uninstall: pytest\n",
            "    Found existing installation: pytest 7.4.4\n",
            "    Uninstalling pytest-7.4.4:\n",
            "      Successfully uninstalled pytest-7.4.4\n",
            "Successfully installed pytest-8.3.3 pytest-asyncio-0.24.0\n"
          ]
        }
      ],
      "source": [
        "!pip install pytest pytest-asyncio\n"
      ]
    },
    {
      "cell_type": "code",
      "execution_count": 14,
      "metadata": {
        "colab": {
          "base_uri": "https://localhost:8080/"
        },
        "id": "OfigYy9rpsBr",
        "outputId": "a6552489-c540-4613-d27e-7094911e6ef6"
      },
      "outputs": [
        {
          "name": "stdout",
          "output_type": "stream",
          "text": [
            "Overwriting market_order.py\n"
          ]
        }
      ],
      "source": [
        "%%writefile market_order.py\n",
        "import asyncio\n",
        "from datetime import datetime\n",
        "\n",
        "# Mock classes\n",
        "\n",
        "class OrderType:\n",
        "    Market = 'Market'\n",
        "\n",
        "\n",
        "\n",
        "class Security:\n",
        "    def __init__(self, symbol, price):\n",
        "        self.symbol = symbol\n",
        "        self.price = price\n",
        "\n",
        "\n",
        "\n",
        "class Order:\n",
        "    def __init__(self, symbol, quantity, time, tag='', properties=None):\n",
        "        self.symbol = symbol\n",
        "        self.quantity = quantity\n",
        "        self.time = time\n",
        "        self.tag = tag\n",
        "        self.properties = properties\n",
        "\n",
        "# main MarketOrder class\n",
        "\n",
        "class MarketOrder(Order):\n",
        "    def __init__(self, symbol, quantity, time, price=None, tag='', properties=None):\n",
        "        super().__init__(symbol, quantity, time, tag, properties)\n",
        "        self.price = price\n",
        "\n",
        "    @property\n",
        "    def type(self):\n",
        "        return OrderType.Market\n",
        "\n",
        "    async def get_value(self, security):\n",
        "\n",
        "        return  self.quantity * security.price\n",
        "\n",
        "    def clone(self):\n",
        "        order = MarketOrder(self.symbol, self.quantity, self.time, self.price, self.tag, self.properties)\n",
        "        return order\n",
        "\n",
        "\n"
      ]
    },
    {
      "cell_type": "code",
      "execution_count": 21,
      "metadata": {
        "colab": {
          "base_uri": "https://localhost:8080/"
        },
        "id": "Jpn-BNXdseGI",
        "outputId": "0e910b59-da89-4f47-c409-45cffca1ceab"
      },
      "outputs": [
        {
          "name": "stdout",
          "output_type": "stream",
          "text": [
            "Overwriting test_market_order.py\n"
          ]
        }
      ],
      "source": [
        "%%writefile test_market_order.py\n",
        "import pytest\n",
        "from unittest.mock import AsyncMock\n",
        "from datetime import datetime\n",
        "from market_order import MarketOrder, Security\n",
        "\n",
        "@pytest.mark.asyncio\n",
        "async def test_market_order_get_value(mocker):\n",
        "\n",
        "    mock_security = mocker.patch('market_order.Security')\n",
        "\n",
        "    mock_security.symbol = \"AAPL\"\n",
        "    mock_security.price = 150\n",
        "\n",
        "    order = MarketOrder(symbol=\"AAPL\", quantity=10, time=datetime.now())\n",
        "\n",
        "    mock_get_value = mocker.patch.object(order, 'get_value', new_callable=AsyncMock)\n",
        "    mock_get_value.return_value = 1500\n",
        "\n",
        "    value = await order.get_value(mock_security)\n",
        "    assert value == 1500\n",
        "\n",
        "\n",
        "def test_market_order_clone(mocker):\n",
        "\n",
        "    order = MarketOrder(symbol=\"AAPL\", quantity=10, time=datetime.now())\n",
        "\n",
        "    mock_response = AsyncMock()\n",
        "    mocker.patch.object(order, \"clone\", return_value=mock_response)\n",
        "\n",
        "    cloned_order = order.clone()\n",
        "    assert cloned_order == mock_response\n"
      ]
    },
    {
      "cell_type": "code",
      "execution_count": 22,
      "metadata": {
        "colab": {
          "base_uri": "https://localhost:8080/"
        },
        "id": "PwfbNwKGtjsR",
        "outputId": "885f21e9-5feb-4e77-e9d5-1fa54194c57b"
      },
      "outputs": [
        {
          "name": "stdout",
          "output_type": "stream",
          "text": [
            "/usr/local/lib/python3.10/dist-packages/pytest_asyncio/plugin.py:208: PytestDeprecationWarning: The configuration option \"asyncio_default_fixture_loop_scope\" is unset.\n",
            "The event loop scope for asynchronous fixtures will default to the fixture caching scope. Future versions of pytest-asyncio will default the loop scope for asynchronous fixtures to function scope. Set the default fixture loop scope explicitly in order to avoid unexpected behavior in the future. Valid fixture loop scopes are: \"function\", \"class\", \"module\", \"package\", \"session\"\n",
            "\n",
            "  warnings.warn(PytestDeprecationWarning(_DEFAULT_FIXTURE_LOOP_SCOPE_UNSET))\n",
            "\u001b[1m======================================= test session starts ========================================\u001b[0m\n",
            "platform linux -- Python 3.10.12, pytest-8.3.3, pluggy-1.5.0\n",
            "rootdir: /content\n",
            "plugins: asyncio-0.24.0, mock-3.14.0, anyio-3.7.1, typeguard-4.3.0\n",
            "asyncio: mode=auto, default_loop_scope=None\n",
            "\u001b[1mcollecting ... \u001b[0m\u001b[1m\rcollected 2 items                                                                                  \u001b[0m\n",
            "\n",
            "test_market_order.py \u001b[32m.\u001b[0m\u001b[32m.\u001b[0m\u001b[32m                                                                      [100%]\u001b[0m\n",
            "\n",
            "\u001b[32m======================================== \u001b[32m\u001b[1m2 passed\u001b[0m\u001b[32m in 0.02s\u001b[0m\u001b[32m =========================================\u001b[0m\n"
          ]
        }
      ],
      "source": [
        "!pytest test_market_order.py --asyncio-mode=auto"
      ]
    },
    {
      "cell_type": "code",
      "execution_count": null,
      "metadata": {
        "id": "x4ZcSdfEuCpz"
      },
      "outputs": [],
      "source": []
    }
  ],
  "metadata": {
    "colab": {
      "provenance": []
    },
    "kernelspec": {
      "display_name": "Python 3",
      "name": "python3"
    },
    "language_info": {
      "name": "python"
    }
  },
  "nbformat": 4,
  "nbformat_minor": 0
}
