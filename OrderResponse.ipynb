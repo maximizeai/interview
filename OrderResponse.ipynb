{
  "cells": [
    {
      "cell_type": "code",
      "execution_count": 2,
      "metadata": {
        "colab": {
          "base_uri": "https://localhost:8080/"
        },
        "id": "QbhtkELM71ZV",
        "outputId": "af64621d-58e3-4de1-87f2-993cc48cbe27"
      },
      "outputs": [
        {
          "name": "stdout",
          "output_type": "stream",
          "text": [
            "Collecting pytest-mock\n",
            "  Downloading pytest_mock-3.14.0-py3-none-any.whl.metadata (3.8 kB)\n",
            "Requirement already satisfied: pytest>=6.2.5 in /usr/local/lib/python3.10/dist-packages (from pytest-mock) (7.4.4)\n",
            "Requirement already satisfied: iniconfig in /usr/local/lib/python3.10/dist-packages (from pytest>=6.2.5->pytest-mock) (2.0.0)\n",
            "Requirement already satisfied: packaging in /usr/local/lib/python3.10/dist-packages (from pytest>=6.2.5->pytest-mock) (24.1)\n",
            "Requirement already satisfied: pluggy<2.0,>=0.12 in /usr/local/lib/python3.10/dist-packages (from pytest>=6.2.5->pytest-mock) (1.5.0)\n",
            "Requirement already satisfied: exceptiongroup>=1.0.0rc8 in /usr/local/lib/python3.10/dist-packages (from pytest>=6.2.5->pytest-mock) (1.2.2)\n",
            "Requirement already satisfied: tomli>=1.0.0 in /usr/local/lib/python3.10/dist-packages (from pytest>=6.2.5->pytest-mock) (2.0.2)\n",
            "Downloading pytest_mock-3.14.0-py3-none-any.whl (9.9 kB)\n",
            "Installing collected packages: pytest-mock\n",
            "Successfully installed pytest-mock-3.14.0\n"
          ]
        }
      ],
      "source": [
        "!pip install pytest-mock"
      ]
    },
    {
      "cell_type": "code",
      "execution_count": 3,
      "metadata": {
        "colab": {
          "base_uri": "https://localhost:8080/"
        },
        "id": "L8O7CCAA703I",
        "outputId": "ee7fe3ce-702d-4284-a83e-b565d3d8b9f8"
      },
      "outputs": [
        {
          "name": "stdout",
          "output_type": "stream",
          "text": [
            "Requirement already satisfied: pytest in /usr/local/lib/python3.10/dist-packages (7.4.4)\n",
            "Collecting pytest-asyncio\n",
            "  Downloading pytest_asyncio-0.24.0-py3-none-any.whl.metadata (3.9 kB)\n",
            "Requirement already satisfied: iniconfig in /usr/local/lib/python3.10/dist-packages (from pytest) (2.0.0)\n",
            "Requirement already satisfied: packaging in /usr/local/lib/python3.10/dist-packages (from pytest) (24.1)\n",
            "Requirement already satisfied: pluggy<2.0,>=0.12 in /usr/local/lib/python3.10/dist-packages (from pytest) (1.5.0)\n",
            "Requirement already satisfied: exceptiongroup>=1.0.0rc8 in /usr/local/lib/python3.10/dist-packages (from pytest) (1.2.2)\n",
            "Requirement already satisfied: tomli>=1.0.0 in /usr/local/lib/python3.10/dist-packages (from pytest) (2.0.2)\n",
            "Collecting pytest\n",
            "  Downloading pytest-8.3.3-py3-none-any.whl.metadata (7.5 kB)\n",
            "Downloading pytest_asyncio-0.24.0-py3-none-any.whl (18 kB)\n",
            "Downloading pytest-8.3.3-py3-none-any.whl (342 kB)\n",
            "\u001b[2K   \u001b[90m━━━━━━━━━━━━━━━━━━━━━━━━━━━━━━━━━━━━━━━━\u001b[0m \u001b[32m342.3/342.3 kB\u001b[0m \u001b[31m6.1 MB/s\u001b[0m eta \u001b[36m0:00:00\u001b[0m\n",
            "\u001b[?25hInstalling collected packages: pytest, pytest-asyncio\n",
            "  Attempting uninstall: pytest\n",
            "    Found existing installation: pytest 7.4.4\n",
            "    Uninstalling pytest-7.4.4:\n",
            "      Successfully uninstalled pytest-7.4.4\n",
            "Successfully installed pytest-8.3.3 pytest-asyncio-0.24.0\n"
          ]
        }
      ],
      "source": [
        "!pip install pytest pytest-asyncio\n"
      ]
    },
    {
      "cell_type": "code",
      "execution_count": 4,
      "metadata": {
        "colab": {
          "base_uri": "https://localhost:8080/"
        },
        "id": "jk5NMipw5zct",
        "outputId": "f51e831c-cd00-4dbc-8557-b8e26b57314f"
      },
      "outputs": [
        {
          "name": "stdout",
          "output_type": "stream",
          "text": [
            "Overwriting order_response_module.py\n"
          ]
        }
      ],
      "source": [
        "%%writefile order_response_module.py\n",
        "import asyncio\n",
        "\n",
        "# Mock classes\n",
        "\n",
        "class OrderResponseErrorCode:\n",
        "    None_ = 0\n",
        "    InvalidOrderStatus = 1\n",
        "    InvalidNewOrderStatus = 2\n",
        "    UnableToFindOrder = 3\n",
        "    OrderQuantityZero = 4\n",
        "    MissingSecurity = 5\n",
        "    AlgorithmWarmingUp = 6\n",
        "\n",
        "#Main OrderResponse Class\n",
        "class OrderResponse:\n",
        "    def __init__(self, order_id: int, error_code: int, error_message: str = None):\n",
        "        self._order_id = order_id\n",
        "        self._error_code = error_code\n",
        "        self._error_message = error_message or \"Default error message\"\n",
        "\n",
        "    @property\n",
        "    def order_id(self):\n",
        "        return self._order_id\n",
        "\n",
        "    @property\n",
        "    def error_message(self):\n",
        "        return self._error_message if self.is_error else \"\"\n",
        "\n",
        "    @property\n",
        "    def error_code(self):\n",
        "        return self._error_code\n",
        "\n",
        "    @property\n",
        "    def is_success(self):\n",
        "        return self.is_processed and not self.is_error\n",
        "\n",
        "    @property\n",
        "    def is_error(self):\n",
        "        return self.is_processed and self.error_code != OrderResponseErrorCode.None_\n",
        "\n",
        "    @property\n",
        "    def is_processed(self):\n",
        "        return self != OrderResponse.unprocessed()\n",
        "\n",
        "    @staticmethod\n",
        "    def unprocessed():\n",
        "        return OrderResponse(int(-1), OrderResponseErrorCode.None_, \"Unprocessed order response\")\n",
        "\n",
        "    @staticmethod\n",
        "    async def success(order_id):\n",
        "        return  OrderResponse(order_id, OrderResponseErrorCode.None_)\n",
        "\n",
        "    @staticmethod\n",
        "    async def error(order_id, error_code, error_message):\n",
        "        return await OrderResponse(order_id, error_code, error_message)\n",
        "\n",
        "    @staticmethod\n",
        "    async def invalid_status(order_id):\n",
        "        return await OrderResponse.error(order_id, OrderResponseErrorCode.InvalidOrderStatus, \"Invalid order status\")\n",
        "\n",
        "    @staticmethod\n",
        "    async def invalid_new_status(order_id):\n",
        "        return await OrderResponse.error(order_id, OrderResponseErrorCode.InvalidNewOrderStatus, \"Invalid new order status\")\n",
        "\n",
        "    @staticmethod\n",
        "    async def unable_to_find_order(order_id):\n",
        "        return await OrderResponse.error(order_id, OrderResponseErrorCode.UnableToFindOrder, \"Unable to find order\")\n",
        "\n",
        "    @staticmethod\n",
        "    async def zero_quantity(order_id):\n",
        "        return await OrderResponse.error(order_id, OrderResponseErrorCode.OrderQuantityZero, \"Order quantity is zero\")\n",
        "\n",
        "    @staticmethod\n",
        "    async def missing_security(order_id):\n",
        "        return await OrderResponse.error(order_id, OrderResponseErrorCode.MissingSecurity, \"Missing security\")\n",
        "\n",
        "    @staticmethod\n",
        "    async def warming_up(order_id):\n",
        "        return await OrderResponse.error(order_id, OrderResponseErrorCode.AlgorithmWarmingUp, \"Algorithm is warming up\")\n",
        "\n"
      ]
    },
    {
      "cell_type": "code",
      "execution_count": 8,
      "metadata": {
        "colab": {
          "base_uri": "https://localhost:8080/"
        },
        "id": "qmqgDOab6YVK",
        "outputId": "f605cd49-ffed-4636-ed64-4002d4b61161"
      },
      "outputs": [
        {
          "name": "stdout",
          "output_type": "stream",
          "text": [
            "Overwriting test_order_response_module.py\n"
          ]
        }
      ],
      "source": [
        "%%writefile test_order_response_module.py\n",
        "from unittest import mock\n",
        "import pytest\n",
        "from unittest.mock import AsyncMock\n",
        "from order_response_module import OrderResponse, OrderResponseErrorCode \n",
        "\n",
        "@pytest.mark.asyncio\n",
        "async def test_success_response():\n",
        "    response = await OrderResponse.success(123)\n",
        "    assert response.order_id == 123\n",
        "    assert response.is_success is True\n",
        "    assert response.is_error is False\n",
        "    assert response.error_code == OrderResponseErrorCode.None_\n",
        "    assert response.error_message == \"\"\n",
        "\n",
        "@pytest.mark.asyncio\n",
        "async def test_error_response(mocker):\n",
        "    mock_response = OrderResponse(456, OrderResponseErrorCode.InvalidOrderStatus, \"Error occurred\")\n",
        "    mocker.patch('order_response_module.OrderResponse.error', new_callable=AsyncMock, return_value=mock_response)\n",
        "\n",
        "    response = await OrderResponse.error(456, OrderResponseErrorCode.InvalidOrderStatus, \"Error occurred\")\n",
        "    assert response.order_id == 456\n",
        "    assert response.is_success is False\n",
        "    assert response.is_error is True\n",
        "    assert response.error_code == OrderResponseErrorCode.InvalidOrderStatus\n",
        "    assert response.error_message == \"Error occurred\"\n",
        "\n",
        "@pytest.mark.asyncio\n",
        "async def test_invalid_status_response(mocker):\n",
        "    mock_response = OrderResponse(789, OrderResponseErrorCode.InvalidOrderStatus, \"Invalid order status\")\n",
        "    mocker.patch('order_response_module.OrderResponse.invalid_status', new_callable=AsyncMock, return_value=mock_response)\n",
        "\n",
        "    response = await OrderResponse.invalid_status(789)\n",
        "    assert response.order_id == 789\n",
        "    assert response.is_success is False\n",
        "    assert response.is_error is True\n",
        "    assert response.error_code == OrderResponseErrorCode.InvalidOrderStatus\n",
        "    assert response.error_message == \"Invalid order status\"\n",
        "\n",
        "@pytest.mark.asyncio\n",
        "async def test_unable_to_find_order_response(mocker):\n",
        "    mock_response = OrderResponse(101, OrderResponseErrorCode.UnableToFindOrder, \"Unable to find order\")\n",
        "    mocker.patch('order_response_module.OrderResponse.unable_to_find_order', new_callable=AsyncMock, return_value=mock_response)\n",
        "\n",
        "    response = await OrderResponse.unable_to_find_order(101)\n",
        "    assert response.order_id == 101\n",
        "    assert response.is_success is False\n",
        "    assert response.is_error is True\n",
        "    assert response.error_code == OrderResponseErrorCode.UnableToFindOrder\n",
        "    assert response.error_message == \"Unable to find order\"\n",
        "\n",
        "@pytest.mark.asyncio\n",
        "async def test_zero_quantity_response(mocker):\n",
        "    mock_response = OrderResponse(102, OrderResponseErrorCode.OrderQuantityZero, \"Order quantity is zero\")\n",
        "    mocker.patch('order_response_module.OrderResponse.zero_quantity', new_callable=AsyncMock, return_value=mock_response)\n",
        "\n",
        "    response = await OrderResponse.zero_quantity(102)\n",
        "    assert response.order_id == 102\n",
        "    assert response.is_success is False\n",
        "    assert response.is_error is True\n",
        "    assert response.error_code == OrderResponseErrorCode.OrderQuantityZero\n",
        "    assert response.error_message == \"Order quantity is zero\"\n",
        "\n",
        "@pytest.mark.asyncio\n",
        "async def test_missing_security_response(mocker):\n",
        "  mock_response = OrderResponse(103, OrderResponseErrorCode.MissingSecurity, \"Missing security\")\n",
        "  mocker.patch('order_response_module.OrderResponse.missing_security', new_callable=AsyncMock, return_value=mock_response)\n",
        "  response = await OrderResponse.missing_security(103)\n",
        "  assert response.order_id == 103\n",
        "  assert response.is_success is False\n",
        "  assert response.is_error is True\n",
        "  assert response.error_code == OrderResponseErrorCode.MissingSecurity\n",
        "  assert response.error_message == \"Missing security\"\n",
        "\n",
        "@pytest.mark.asyncio\n",
        "async def test_warming_up_response(mocker):\n",
        "    mock_response = OrderResponse(103, OrderResponseErrorCode.AlgorithmWarmingUp, \"Algorithm is warming up\")\n",
        "    mocker.patch('order_response_module.OrderResponse.warming_up', new_callable=AsyncMock, return_value=mock_response)\n",
        "\n",
        "    response = await OrderResponse.warming_up(103)\n",
        "    assert response.order_id == 103\n",
        "    assert response.is_success is False\n",
        "    assert response.is_error is True\n",
        "    assert response.error_code == OrderResponseErrorCode.AlgorithmWarmingUp\n",
        "    assert response.error_message == \"Algorithm is warming up\"\n"
      ]
    },
    {
      "cell_type": "code",
      "execution_count": 9,
      "metadata": {
        "colab": {
          "base_uri": "https://localhost:8080/"
        },
        "id": "bS3AQcv98EMh",
        "outputId": "7c0c091e-6d2d-48a6-aca6-1e6fcc1a244f"
      },
      "outputs": [
        {
          "name": "stdout",
          "output_type": "stream",
          "text": [
            "/usr/local/lib/python3.10/dist-packages/pytest_asyncio/plugin.py:208: PytestDeprecationWarning: The configuration option \"asyncio_default_fixture_loop_scope\" is unset.\n",
            "The event loop scope for asynchronous fixtures will default to the fixture caching scope. Future versions of pytest-asyncio will default the loop scope for asynchronous fixtures to function scope. Set the default fixture loop scope explicitly in order to avoid unexpected behavior in the future. Valid fixture loop scopes are: \"function\", \"class\", \"module\", \"package\", \"session\"\n",
            "\n",
            "  warnings.warn(PytestDeprecationWarning(_DEFAULT_FIXTURE_LOOP_SCOPE_UNSET))\n",
            "\u001b[1m======================================= test session starts ========================================\u001b[0m\n",
            "platform linux -- Python 3.10.12, pytest-8.3.3, pluggy-1.5.0\n",
            "rootdir: /content\n",
            "plugins: asyncio-0.24.0, mock-3.14.0, anyio-3.7.1, typeguard-4.3.0\n",
            "asyncio: mode=auto, default_loop_scope=None\n",
            "\u001b[1mcollecting ... \u001b[0m\u001b[1m\rcollected 7 items                                                                                  \u001b[0m\n",
            "\n",
            "test_order_response_module.py \u001b[32m.\u001b[0m\u001b[32m.\u001b[0m\u001b[32m.\u001b[0m\u001b[32m.\u001b[0m\u001b[32m.\u001b[0m\u001b[32m.\u001b[0m\u001b[32m.\u001b[0m\u001b[32m                                                        [100%]\u001b[0m\n",
            "\n",
            "\u001b[32m======================================== \u001b[32m\u001b[1m7 passed\u001b[0m\u001b[32m in 0.07s\u001b[0m\u001b[32m =========================================\u001b[0m\n"
          ]
        }
      ],
      "source": [
        "!pytest test_order_response_module.py --asyncio-mode=auto"
      ]
    },
    {
      "cell_type": "code",
      "execution_count": null,
      "metadata": {
        "id": "6qR_xiEXg7FY"
      },
      "outputs": [],
      "source": []
    }
  ],
  "metadata": {
    "colab": {
      "provenance": []
    },
    "kernelspec": {
      "display_name": "Python 3",
      "name": "python3"
    },
    "language_info": {
      "name": "python"
    }
  },
  "nbformat": 4,
  "nbformat_minor": 0
}
