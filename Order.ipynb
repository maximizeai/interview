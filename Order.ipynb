{
  "cells": [
    {
      "cell_type": "code",
      "execution_count": 3,
      "metadata": {
        "colab": {
          "base_uri": "https://localhost:8080/"
        },
        "id": "tvpGZgzhyypE",
        "outputId": "a756f723-1f57-438d-876b-77cf193177d5"
      },
      "outputs": [
        {
          "name": "stdout",
          "output_type": "stream",
          "text": [
            "Collecting pytest-mock\n",
            "  Downloading pytest_mock-3.14.0-py3-none-any.whl.metadata (3.8 kB)\n",
            "Requirement already satisfied: pytest>=6.2.5 in /usr/local/lib/python3.10/dist-packages (from pytest-mock) (7.4.4)\n",
            "Requirement already satisfied: iniconfig in /usr/local/lib/python3.10/dist-packages (from pytest>=6.2.5->pytest-mock) (2.0.0)\n",
            "Requirement already satisfied: packaging in /usr/local/lib/python3.10/dist-packages (from pytest>=6.2.5->pytest-mock) (24.1)\n",
            "Requirement already satisfied: pluggy<2.0,>=0.12 in /usr/local/lib/python3.10/dist-packages (from pytest>=6.2.5->pytest-mock) (1.5.0)\n",
            "Requirement already satisfied: exceptiongroup>=1.0.0rc8 in /usr/local/lib/python3.10/dist-packages (from pytest>=6.2.5->pytest-mock) (1.2.2)\n",
            "Requirement already satisfied: tomli>=1.0.0 in /usr/local/lib/python3.10/dist-packages (from pytest>=6.2.5->pytest-mock) (2.0.2)\n",
            "Downloading pytest_mock-3.14.0-py3-none-any.whl (9.9 kB)\n",
            "Installing collected packages: pytest-mock\n",
            "Successfully installed pytest-mock-3.14.0\n"
          ]
        }
      ],
      "source": [
        "!pip install pytest-mock"
      ]
    },
    {
      "cell_type": "code",
      "execution_count": 4,
      "metadata": {
        "colab": {
          "base_uri": "https://localhost:8080/"
        },
        "id": "yWLRq1Kay0lW",
        "outputId": "4614c7f3-fcfa-4c16-c991-0db591c92534"
      },
      "outputs": [
        {
          "name": "stdout",
          "output_type": "stream",
          "text": [
            "Requirement already satisfied: pytest in /usr/local/lib/python3.10/dist-packages (7.4.4)\n",
            "Collecting pytest-asyncio\n",
            "  Downloading pytest_asyncio-0.24.0-py3-none-any.whl.metadata (3.9 kB)\n",
            "Requirement already satisfied: iniconfig in /usr/local/lib/python3.10/dist-packages (from pytest) (2.0.0)\n",
            "Requirement already satisfied: packaging in /usr/local/lib/python3.10/dist-packages (from pytest) (24.1)\n",
            "Requirement already satisfied: pluggy<2.0,>=0.12 in /usr/local/lib/python3.10/dist-packages (from pytest) (1.5.0)\n",
            "Requirement already satisfied: exceptiongroup>=1.0.0rc8 in /usr/local/lib/python3.10/dist-packages (from pytest) (1.2.2)\n",
            "Requirement already satisfied: tomli>=1.0.0 in /usr/local/lib/python3.10/dist-packages (from pytest) (2.0.2)\n",
            "Collecting pytest\n",
            "  Downloading pytest-8.3.3-py3-none-any.whl.metadata (7.5 kB)\n",
            "Downloading pytest_asyncio-0.24.0-py3-none-any.whl (18 kB)\n",
            "Downloading pytest-8.3.3-py3-none-any.whl (342 kB)\n",
            "\u001b[2K   \u001b[90m━━━━━━━━━━━━━━━━━━━━━━━━━━━━━━━━━━━━━━━━\u001b[0m \u001b[32m342.3/342.3 kB\u001b[0m \u001b[31m8.6 MB/s\u001b[0m eta \u001b[36m0:00:00\u001b[0m\n",
            "\u001b[?25hInstalling collected packages: pytest, pytest-asyncio\n",
            "  Attempting uninstall: pytest\n",
            "    Found existing installation: pytest 7.4.4\n",
            "    Uninstalling pytest-7.4.4:\n",
            "      Successfully uninstalled pytest-7.4.4\n",
            "Successfully installed pytest-8.3.3 pytest-asyncio-0.24.0\n"
          ]
        }
      ],
      "source": [
        "!pip install pytest pytest-asyncio\n"
      ]
    },
    {
      "cell_type": "code",
      "execution_count": 5,
      "metadata": {
        "colab": {
          "base_uri": "https://localhost:8080/"
        },
        "id": "qPqmuhCty-PW",
        "outputId": "e63baad3-2f73-437a-f7ee-f0ad762e5786"
      },
      "outputs": [
        {
          "name": "stdout",
          "output_type": "stream",
          "text": [
            "Writing order_system.py\n"
          ]
        }
      ],
      "source": [
        "%%writefile order_system.py\n",
        "import asyncio\n",
        "import threading\n",
        "from datetime import datetime\n",
        "from enum import Enum\n",
        "from typing import List, Optional\n",
        "\n",
        "class AsyncEventLoop:\n",
        "    def __init__(self):\n",
        "        self.loop = asyncio.new_event_loop()\n",
        "        self.thread = threading.Thread(target=self.run_loop, daemon=True)\n",
        "        self.thread.start()\n",
        "        self._event = threading.Event()\n",
        "\n",
        "    def run_loop(self):\n",
        "        asyncio.set_event_loop(self.loop)\n",
        "        self.loop.run_forever()\n",
        "\n",
        "    def stop(self):\n",
        "        self.loop.call_soon_threadsafe(self.loop.stop)\n",
        "\n",
        "    def run_until_complete(self, coro):\n",
        "        return asyncio.run_coroutine_threadsafe(coro, self.loop).result()\n",
        "\n",
        "    async def wait(self):\n",
        "        while not self._event.is_set():\n",
        "            await asyncio.sleep(0.1)\n",
        "\n",
        "    def set_event(self):\n",
        "        self._event.set()\n",
        "\n",
        "    def clear_event(self):\n",
        "        self._event.clear()\n",
        "\n",
        "\n",
        "# Mock classes\n",
        "\n",
        "class OrderStatus(Enum):\n",
        "    NONE = \"None\"\n",
        "    NEW = \"New\"\n",
        "    CANCELED = \"Canceled\"\n",
        "    FILLED = \"Filled\"\n",
        "\n",
        "\n",
        "class OrderDirection(Enum):\n",
        "    BUY = \"Buy\"\n",
        "    SELL = \"Sell\"\n",
        "    HOLD = \"Hold\"\n",
        "\n",
        "\n",
        "class OrderType(Enum):\n",
        "    MARKET = \"Market\"\n",
        "    LIMIT = \"Limit\"\n",
        "\n",
        "\n",
        "class Symbol:\n",
        "    def __init__(self, symbol: str):\n",
        "        self.symbol = symbol\n",
        "\n",
        "    def __repr__(self):\n",
        "        return f\"Symbol({self.symbol})\"\n",
        "\n",
        "\n",
        "#  Main Order Class.\n",
        "\n",
        "class Order:\n",
        "    _incremental_id = 0\n",
        "    _id_lock = asyncio.Lock()\n",
        "\n",
        "    def __init__(self, symbol: Symbol, quantity: float, order_time: datetime,event_manager: AsyncEventLoop, price: float = 0.0, tag: str = ''):\n",
        "        self._id = None\n",
        "        self.symbol = symbol\n",
        "        self.quantity = quantity\n",
        "        self.price = price\n",
        "        self.price_currency = \"USD\"\n",
        "        self.time = order_time\n",
        "        self.status = OrderStatus.NONE\n",
        "        self.tag = tag\n",
        "        self.broker_id: List[str] = []\n",
        "        self.contingent_id = None\n",
        "        self.last_fill_time = None\n",
        "        self.last_update_time = None\n",
        "        self.canceled_time = None\n",
        "\n",
        "        self.order_event = event_manager\n",
        "\n",
        "    @property\n",
        "    async def id(self):\n",
        "        if self._id is None:\n",
        "            async with self._id_lock:\n",
        "                if self._id is None:\n",
        "                    self._id = Order._incremental_id\n",
        "                    Order._incremental_id += 1\n",
        "        return self._id\n",
        "\n",
        "    @property\n",
        "    def direction(self):\n",
        "        if self.quantity > 0:\n",
        "            return OrderDirection.BUY\n",
        "        elif self.quantity < 0:\n",
        "            return OrderDirection.SELL\n",
        "        else:\n",
        "            return OrderDirection.HOLD\n",
        "\n",
        "    @property\n",
        "    def absolute_quantity(self):\n",
        "        return abs(self.quantity)\n",
        "\n",
        "    @property\n",
        "    def is_marketable(self):\n",
        "\n",
        "        return self.price == 0\n",
        "\n",
        "    async def apply_update(self, quantity: Optional[float] = None, tag: Optional[str] = None):\n",
        "        \"\"\"Simulate an update to the order asynchronously.\"\"\"\n",
        "        if quantity is not None:\n",
        "            self.quantity = quantity\n",
        "        if tag is not None:\n",
        "            self.tag = tag\n",
        "        self.last_update_time = datetime.utcnow()\n",
        "\n",
        "        await asyncio.sleep(0.1)\n",
        "        self.order_event.set_event()\n",
        "        return 'update_applied'\n",
        "\n",
        "    async def cancel(self):\n",
        "        \"\"\"Cancel the order asynchronously.\"\"\"\n",
        "        self.status = OrderStatus.CANCELED\n",
        "        self.canceled_time = datetime.utcnow()\n",
        "\n",
        "\n",
        "        await asyncio.sleep(0.1)\n",
        "        self.order_event.clear_event()\n",
        "        return 'order_canceled'\n",
        "\n",
        "    def __str__(self):\n",
        "        return f\"Order(id={self.id}, symbol={self.symbol}, quantity={self.quantity}, price={self.price}, status={self.status})\""
      ]
    },
    {
      "cell_type": "code",
      "execution_count": 6,
      "metadata": {
        "colab": {
          "base_uri": "https://localhost:8080/"
        },
        "id": "InXGglnWzHKy",
        "outputId": "665bfe27-4d5f-4b0e-e5d8-1c14be72df62"
      },
      "outputs": [
        {
          "name": "stdout",
          "output_type": "stream",
          "text": [
            "Overwriting test_order_system.py\n"
          ]
        }
      ],
      "source": [
        "%%writefile test_order_system.py\n",
        "import pytest\n",
        "import asyncio\n",
        "from datetime import datetime\n",
        "from unittest.mock import patch\n",
        "from order_system import Order, Symbol, OrderStatus, OrderDirection, AsyncEventLoop\n",
        "\n",
        "\n",
        "\n",
        "\n",
        "@pytest.fixture\n",
        "def symbol():\n",
        "    return Symbol(\"AAPL\")\n",
        "\n",
        "@pytest.fixture\n",
        "def order():\n",
        "    \n",
        "    event_loop = AsyncEventLoop()\n",
        "    with patch('order_system.datetime') as mock_datetime:\n",
        "        mock_datetime.utcnow.return_value = datetime(2024, 1, 1, 12, 0, 0)\n",
        "        symbol_instance = Symbol(\"AAPL\")\n",
        "        order_instance = Order(symbol=symbol_instance, quantity=10.0, order_time=mock_datetime.utcnow(), event_manager=event_loop)\n",
        "        return order_instance\n",
        "\n",
        "@pytest.mark.asyncio\n",
        "async def test_order_initialization(order):\n",
        "    assert order.symbol.symbol == \"AAPL\"\n",
        "    assert order.quantity == 10.0\n",
        "    assert order.status == OrderStatus.NONE\n",
        "    assert order.time == datetime(2024, 1, 1, 12, 0, 0)\n",
        "@pytest.mark.asyncio\n",
        "async def test_order_apply_update(order):\n",
        "    \n",
        "    with patch('order_system.datetime') as mock_datetime:\n",
        "        mock_datetime.utcnow.return_value = datetime(2024, 1, 1, 12, 0, 0)\n",
        "        await order.apply_update(quantity=15.0, tag=\"Test update\")\n",
        "        assert order.quantity == 15.0\n",
        "        assert order.tag == \"Test update\"\n",
        "        assert order.last_update_time == datetime(2024, 1, 1, 12, 0, 0)\n",
        "\n",
        "@pytest.mark.asyncio\n",
        "async def test_order_cancel(order):\n",
        "    \n",
        "    with patch('order_system.datetime') as mock_datetime:\n",
        "        mock_datetime.utcnow.return_value = datetime(2024, 1, 1, 12, 0, 0)\n",
        "        await order.cancel()\n",
        "        assert order.status == OrderStatus.CANCELED\n",
        "        assert order.canceled_time == datetime(2024, 1, 1, 12, 0, 0)\n",
        "\n",
        "@pytest.mark.asyncio\n",
        "async def test_order_direction(order):\n",
        "    assert order.direction == OrderDirection.BUY\n",
        "\n",
        "@pytest.mark.asyncio\n",
        "async def test_order_is_marketable(order):\n",
        "    order.price = 0.0\n",
        "    assert order.is_marketable is True\n",
        "    order.price = 50.0\n",
        "    assert order.is_marketable is False"
      ]
    },
    {
      "cell_type": "code",
      "execution_count": 7,
      "metadata": {
        "colab": {
          "base_uri": "https://localhost:8080/"
        },
        "id": "uVx8nbYmzSRB",
        "outputId": "df8c757a-8a3f-4754-de1f-2d161099273d"
      },
      "outputs": [
        {
          "name": "stdout",
          "output_type": "stream",
          "text": [
            "/usr/local/lib/python3.10/dist-packages/pytest_asyncio/plugin.py:208: PytestDeprecationWarning: The configuration option \"asyncio_default_fixture_loop_scope\" is unset.\n",
            "The event loop scope for asynchronous fixtures will default to the fixture caching scope. Future versions of pytest-asyncio will default the loop scope for asynchronous fixtures to function scope. Set the default fixture loop scope explicitly in order to avoid unexpected behavior in the future. Valid fixture loop scopes are: \"function\", \"class\", \"module\", \"package\", \"session\"\n",
            "\n",
            "  warnings.warn(PytestDeprecationWarning(_DEFAULT_FIXTURE_LOOP_SCOPE_UNSET))\n",
            "\u001b[1m======================================= test session starts ========================================\u001b[0m\n",
            "platform linux -- Python 3.10.12, pytest-8.3.3, pluggy-1.5.0\n",
            "rootdir: /content\n",
            "plugins: asyncio-0.24.0, mock-3.14.0, anyio-3.7.1, typeguard-4.3.0\n",
            "asyncio: mode=auto, default_loop_scope=None\n",
            "\u001b[1mcollecting ... \u001b[0m\u001b[1m\rcollected 5 items                                                                                  \u001b[0m\n",
            "\n",
            "test_order_system.py \u001b[32m.\u001b[0m\u001b[32m.\u001b[0m\u001b[32m.\u001b[0m\u001b[32m.\u001b[0m\u001b[32m.\u001b[0m\u001b[32m                                                                   [100%]\u001b[0m\n",
            "\n",
            "\u001b[32m======================================== \u001b[32m\u001b[1m5 passed\u001b[0m\u001b[32m in 0.37s\u001b[0m\u001b[32m =========================================\u001b[0m\n"
          ]
        }
      ],
      "source": [
        "!pytest test_order_system.py --asyncio-mode=auto"
      ]
    },
    {
      "cell_type": "code",
      "execution_count": null,
      "metadata": {
        "id": "yMRHNLaazWyn"
      },
      "outputs": [],
      "source": []
    }
  ],
  "metadata": {
    "colab": {
      "provenance": []
    },
    "kernelspec": {
      "display_name": "Python 3",
      "name": "python3"
    },
    "language_info": {
      "name": "python"
    }
  },
  "nbformat": 4,
  "nbformat_minor": 0
}
